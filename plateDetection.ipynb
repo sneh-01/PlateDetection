{
 "cells": [
  {
   "cell_type": "code",
   "execution_count": 21,
   "id": "1833af57",
   "metadata": {},
   "outputs": [
    {
     "name": "stderr",
     "output_type": "stream",
     "text": [
      "Neither CUDA nor MPS are available - defaulting to CPU. Note: This module is much faster with a GPU.\n"
     ]
    },
    {
     "name": "stdout",
     "output_type": "stream",
     "text": [
      "Extracted Text: MHI2 DE1433 \n"
     ]
    }
   ],
   "source": [
    "import cv2\n",
    "import easyocr\n",
    "import time\n",
    "\n",
    "harcascade = \"E:\\\\number plate\\\\model\\\\haarcascade_russian_plate_number.xml\"\n",
    "\n",
    "cap = cv2.VideoCapture(0)\n",
    "# width\n",
    "cap.set(3, 640)  \n",
    "cap.set(4, 480)  # height\n",
    "\n",
    "min_area = 500\n",
    "count = 0\n",
    "\n",
    "# Initialize EasyOCR reader\n",
    "reader = easyocr.Reader(['en'])\n",
    "\n",
    "# Initialize variable to store extracted text\n",
    "extracted_text = \"\"\n",
    "\n",
    "# Flag to indicate if a license plate has been processed\n",
    "plate_processed = False\n",
    "\n",
    "# Variables to track time\n",
    "start_time = None\n",
    "\n",
    "while True:\n",
    "    success, img = cap.read()\n",
    "    \n",
    "    plate_cascade = cv2.CascadeClassifier(harcascade)\n",
    "    img_gray = cv2.cvtColor(img, cv2.COLOR_BGR2GRAY)\n",
    "    \n",
    "    plates = plate_cascade.detectMultiScale(img_gray, 1.1, 4)\n",
    "    \n",
    "    for (x, y, w, h) in plates:\n",
    "        area = w * h\n",
    "        \n",
    "        if area > min_area and not plate_processed:\n",
    "            cv2.rectangle(img, (x, y), (x + w, y + h), (0, 255, 0), 2)\n",
    "            cv2.putText(img, \"Number plate\", (x, y), cv2.FONT_HERSHEY_COMPLEX_SMALL, 1, (255, 0, 255), 2)\n",
    "            \n",
    "            # Start the timer\n",
    "            if start_time is None:\n",
    "                start_time = time.time()\n",
    "            \n",
    "            # Check if 2 seconds have elapsed\n",
    "            if time.time() - start_time >= 2:\n",
    "                # Crop the license plate region\n",
    "                plate_roi = img[y:y+h, x:x+w]\n",
    "                \n",
    "                # Perform OCR on the license plate region\n",
    "                result = reader.readtext(plate_roi)\n",
    "                \n",
    "                # Extract recognized text from OCR result\n",
    "                plate_text = \"\"\n",
    "                for detection in sorted(result, key=lambda x: x[0][0]):  # Sort by x-coordinate of text bounding box\n",
    "                    plate_text += detection[1] + \" \"\n",
    "                \n",
    "                # Append recognized text to the extracted_text variable\n",
    "                extracted_text += plate_text\n",
    "                \n",
    "                cv2.imshow(\"Plate ROI\", plate_roi)\n",
    "\n",
    "                # Mark license plate as processed\n",
    "                plate_processed = True\n",
    "    \n",
    "    cv2.imshow(\"result\", img)\n",
    "    if cv2.waitKey(1) & 0xFF == ord('q'):\n",
    "        break\n",
    "\n",
    "# Print the extracted text\n",
    "print(\"Extracted Text:\", extracted_text)\n",
    "\n",
    "cap.release()\n",
    "cv2.destroyAllWindows()\n"
   ]
  },
  {
   "cell_type": "code",
   "execution_count": null,
   "id": "f17e9995",
   "metadata": {},
   "outputs": [],
   "source": []
  }
 ],
 "metadata": {
  "kernelspec": {
   "display_name": "Python 3 (ipykernel)",
   "language": "python",
   "name": "python3"
  },
  "language_info": {
   "codemirror_mode": {
    "name": "ipython",
    "version": 3
   },
   "file_extension": ".py",
   "mimetype": "text/x-python",
   "name": "python",
   "nbconvert_exporter": "python",
   "pygments_lexer": "ipython3",
   "version": "3.11.1"
  }
 },
 "nbformat": 4,
 "nbformat_minor": 5
}
